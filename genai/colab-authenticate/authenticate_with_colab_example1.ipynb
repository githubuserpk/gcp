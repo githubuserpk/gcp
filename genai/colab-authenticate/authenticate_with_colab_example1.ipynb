{
  "nbformat": 4,
  "nbformat_minor": 0,
  "metadata": {
    "colab": {
      "provenance": [],
      "authorship_tag": "ABX9TyNC09BVZls+BATIJUi/+eD/",
      "include_colab_link": true
    },
    "kernelspec": {
      "name": "python3",
      "display_name": "Python 3"
    },
    "language_info": {
      "name": "python"
    }
  },
  "cells": [
    {
      "cell_type": "markdown",
      "metadata": {
        "id": "view-in-github",
        "colab_type": "text"
      },
      "source": [
        "<a href=\"https://colab.research.google.com/github/githubuserpk/gcp/blob/master/genai/colab-authenticate/authenticate_with_colab_example1.ipynb\" target=\"_parent\"><img src=\"https://colab.research.google.com/assets/colab-badge.svg\" alt=\"Open In Colab\"/></a>"
      ]
    },
    {
      "cell_type": "code",
      "metadata": {
        "id": "j0ztJ9IIIJpH",
        "colab": {
          "base_uri": "https://localhost:8080/"
        },
        "outputId": "f9740202-2fff-40af-e9e8-bf5680e08d25"
      },
      "source": [
        "import os\n",
        "os.environ['GOOGLE_APPLICATION_CREDENTIALS'] = './genai-sa.json'\n",
        "!echo $GOOGLE_APPLICATION_CREDENTIALS"
      ],
      "execution_count": 3,
      "outputs": [
        {
          "output_type": "stream",
          "name": "stdout",
          "text": [
            "./genai-sa.json\n"
          ]
        }
      ]
    },
    {
      "cell_type": "code",
      "metadata": {
        "id": "GBpnpPF4I8Wn",
        "colab": {
          "base_uri": "https://localhost:8080/"
        },
        "outputId": "94ca50a8-801a-4b3d-ed0a-a7f574c25bc1"
      },
      "source": [
        "from google.cloud import storage\n",
        "\n",
        "storage_client = storage.Client()\n",
        "\n",
        "buckets = storage_client.list_buckets()\n",
        "\n",
        "print('-- List of buckets in project \\\"' + storage_client.project + '\\\"')\n",
        "\n",
        "for b in buckets:\n",
        "  print(b.name)\n",
        "\n"
      ],
      "execution_count": 4,
      "outputs": [
        {
          "output_type": "stream",
          "name": "stdout",
          "text": [
            "-- List of buckets in project \"pkdeltaai-01\"\n",
            "artifacts.pkdeltaai-01.appspot.com\n",
            "pkdeltaai-01-stb\n"
          ]
        }
      ]
    }
  ]
}