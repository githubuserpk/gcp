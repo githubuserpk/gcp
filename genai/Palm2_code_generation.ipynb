{
  "nbformat": 4,
  "nbformat_minor": 0,
  "metadata": {
    "colab": {
      "provenance": [],
      "authorship_tag": "ABX9TyNkcRB1K0pAyT9qvz+LfRaZ",
      "include_colab_link": true
    },
    "kernelspec": {
      "name": "python3",
      "display_name": "Python 3"
    },
    "language_info": {
      "name": "python"
    }
  },
  "cells": [
    {
      "cell_type": "markdown",
      "metadata": {
        "id": "view-in-github",
        "colab_type": "text"
      },
      "source": [
        "<a href=\"https://colab.research.google.com/github/githubuserpk/gcp/blob/master/genai/Palm2_code_generation.ipynb\" target=\"_parent\"><img src=\"https://colab.research.google.com/assets/colab-badge.svg\" alt=\"Open In Colab\"/></a>"
      ]
    },
    {
      "cell_type": "code",
      "execution_count": 2,
      "metadata": {
        "id": "JtskquzlKlDd"
      },
      "outputs": [],
      "source": [
        "!pip -q install google-cloud-aiplatform>=1.27.0\n",
        "!pip -q install \"shapely<=2.0.0\""
      ]
    },
    {
      "cell_type": "code",
      "source": [],
      "metadata": {
        "id": "Xz3ckC8HK8dn"
      },
      "execution_count": null,
      "outputs": []
    },
    {
      "cell_type": "code",
      "source": [
        "from google.colab import auth as google_auth\n",
        "google_auth.authenticate_user()"
      ],
      "metadata": {
        "id": "BF1clfzHmOWt"
      },
      "execution_count": 3,
      "outputs": []
    },
    {
      "cell_type": "code",
      "source": [],
      "metadata": {
        "id": "J7cA4wn7LGGU"
      },
      "execution_count": null,
      "outputs": []
    },
    {
      "cell_type": "code",
      "source": [
        "import vertexai\n",
        "from vertexai.preview.language_models import ChatModel, InputOutputTextPair"
      ],
      "metadata": {
        "id": "7Ph77AanmOar"
      },
      "execution_count": 1,
      "outputs": []
    },
    {
      "cell_type": "code",
      "source": [
        "\n",
        "from vertexai.preview.language_models import CodeGenerationModel\n",
        "\n",
        "parameters = {\n",
        "    \"temperature\": 0.2,\n",
        "    \"max_output_tokens\": 1024\n",
        "}"
      ],
      "metadata": {
        "id": "MnSWbVhPKxvw"
      },
      "execution_count": 2,
      "outputs": []
    },
    {
      "cell_type": "code",
      "source": [
        "vertexai.init(project=\"pkdeltaai-01\", location=\"us-central1\")\n",
        "\n",
        "model = CodeGenerationModel.from_pretrained(\"code-bison@001\")\n"
      ],
      "metadata": {
        "id": "oyUhzB7YLoKH"
      },
      "execution_count": 6,
      "outputs": []
    },
    {
      "cell_type": "code",
      "source": [],
      "metadata": {
        "id": "Xavvv0mLL3wU"
      },
      "execution_count": null,
      "outputs": []
    },
    {
      "cell_type": "code",
      "source": [],
      "metadata": {
        "id": "txrvzMLqoz4C"
      },
      "execution_count": null,
      "outputs": []
    },
    {
      "cell_type": "code",
      "source": [
        "from vertexai.preview.language_models import CodeGenerationModel\n",
        "\n",
        "parameters = {\n",
        "    \"temperature\": 0.2,\n",
        "    \"max_output_tokens\": 1024\n",
        "}"
      ],
      "metadata": {
        "id": "Iy-RC6azrlt6"
      },
      "execution_count": 8,
      "outputs": []
    },
    {
      "cell_type": "code",
      "source": [],
      "metadata": {
        "id": "MYZO9_rYMCce"
      },
      "execution_count": null,
      "outputs": []
    },
    {
      "cell_type": "code",
      "source": [
        "response = model.predict(\n",
        "    prefix = \"\"\"Write the following as a python function \\\n",
        "    \"Arjun started with 17 apples, he gave Haruka 11 Apples then Amrita gave gave Arjun 7 more apples. \\\n",
        "    How many does Arjun have now?\\\"\"\"\",\n",
        "    **parameters\n",
        ")\n",
        "print(f\"Response from Model: {response.text}\")"
      ],
      "metadata": {
        "colab": {
          "base_uri": "https://localhost:8080/"
        },
        "id": "TDnAMpqErdO7",
        "outputId": "a78d69a4-d820-4488-b1b0-553b319f98a9"
      },
      "execution_count": 9,
      "outputs": [
        {
          "output_type": "stream",
          "name": "stdout",
          "text": [
            "Response from Model: ```python\n",
            "def get_arjun_apples():\n",
            "  \"\"\"Returns the number of apples Arjun has.\n",
            "\n",
            "  Arjun started with 17 apples, he gave Haruka 11 Apples then Amrita gave gave Arjun 7 more apples.\n",
            "\n",
            "  Returns:\n",
            "    The number of apples Arjun has.\n",
            "  \"\"\"\n",
            "\n",
            "  # Arjun started with 17 apples.\n",
            "  start_apples = 17\n",
            "\n",
            "  # He gave Haruka 11 apples.\n",
            "  haruka_apples = 11\n",
            "\n",
            "  # Amrita gave him 7 more apples.\n",
            "  amrita_apples = 7\n",
            "\n",
            "  # Arjun now has start_apples - haruka_apples + amrita_apples apples.\n",
            "  return start_apples - haruka_apples + amrita_apples\n",
            "```\n"
          ]
        }
      ]
    }
  ]
}