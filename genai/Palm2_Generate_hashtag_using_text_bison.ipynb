{
  "nbformat": 4,
  "nbformat_minor": 0,
  "metadata": {
    "colab": {
      "provenance": [],
      "authorship_tag": "ABX9TyOwYU6AiP6hKNA2rRmhToyC",
      "include_colab_link": true
    },
    "kernelspec": {
      "name": "python3",
      "display_name": "Python 3"
    },
    "language_info": {
      "name": "python"
    }
  },
  "cells": [
    {
      "cell_type": "markdown",
      "metadata": {
        "id": "view-in-github",
        "colab_type": "text"
      },
      "source": [
        "<a href=\"https://colab.research.google.com/github/githubuserpk/gcp/blob/master/genai/Palm2_Generate_hashtag_using_text_bison.ipynb\" target=\"_parent\"><img src=\"https://colab.research.google.com/assets/colab-badge.svg\" alt=\"Open In Colab\"/></a>"
      ]
    },
    {
      "cell_type": "code",
      "execution_count": 1,
      "metadata": {
        "id": "JtskquzlKlDd"
      },
      "outputs": [],
      "source": [
        "!pip -q install google-cloud-aiplatform>=1.27.0\n",
        "!pip -q install \"shapely<=2.0.0\""
      ]
    },
    {
      "cell_type": "code",
      "source": [],
      "metadata": {
        "id": "Xz3ckC8HK8dn"
      },
      "execution_count": null,
      "outputs": []
    },
    {
      "cell_type": "code",
      "source": [
        "from google.colab import auth as google_auth\n",
        "google_auth.authenticate_user()"
      ],
      "metadata": {
        "id": "BF1clfzHmOWt"
      },
      "execution_count": 1,
      "outputs": []
    },
    {
      "cell_type": "code",
      "source": [
        "\n"
      ],
      "metadata": {
        "id": "MnSWbVhPKxvw"
      },
      "execution_count": null,
      "outputs": []
    },
    {
      "cell_type": "code",
      "source": [
        "import vertexai\n",
        "from vertexai.language_models import TextGenerationModel\n",
        "\n",
        "parameters = {\n",
        "    \"temperature\": 0.2,\n",
        "    \"max_output_tokens\": 256,\n",
        "    \"top_p\": 0.95,\n",
        "    \"top_k\": 40\n",
        "}\n",
        "model = TextGenerationModel.from_pretrained(\"text-bison@001\")\n"
      ],
      "metadata": {
        "id": "OIM7A_QHrpZ0"
      },
      "execution_count": 4,
      "outputs": []
    },
    {
      "cell_type": "code",
      "source": [
        "\n"
      ],
      "metadata": {
        "id": "oyUhzB7YLoKH"
      },
      "execution_count": null,
      "outputs": []
    },
    {
      "cell_type": "code",
      "source": [
        "response = model.predict(\n",
        "    \"\"\"Tokenize the hashtags of this tweet: Google Cloud\n",
        "@googlecloud\n",
        "·\n",
        "4h\n",
        "Google Cloud 🤝\n",
        "@MongoDB\n",
        ": helping startups scale quicker, more safely, and more successfully.\n",
        "\n",
        "Learn how we\\'re supporting high-potential startups via our dedicated startup programs—the Google for Startups Cloud Program and MongoDB for Startups Program ↓\n",
        "The hashtags in this tweet are: #GoogleCloud\n",
        "#googlecloud\n",
        "#MongoDB\n",
        "#mongodb\n",
        "#startups\n",
        "#startup\n",
        "#scale\n",
        "#quicker\n",
        "#moresafely\n",
        "#moresuccessfully\n",
        "#GoogleforStartupsCloudProgram\n",
        "#MongoDBforStartupsProgram#mongodb\n",
        "\n",
        "Tokenize the hashtags of this tweet: Google Cloud\n",
        "@googlecloud\n",
        "·\n",
        "10h\n",
        "Women deliver impact across Google Cloud—from keeping the internet running to driving AI innovation to transforming our customers\\' businesses.\n",
        "\n",
        "For IWD2023, check out their advice for the next generation of innovators, change-makers, and leaders ↓\n",
        "The hashtags in this tweet are: #IWD2023\n",
        "#WomenInTech\n",
        "#GoogleCloud\n",
        "\n",
        "Tokenize the hashtags of this tweet: Google Cloud\n",
        "@googlecloud\n",
        "·\n",
        "Mar 7\n",
        "The E-learning platform,\n",
        "@schooliocorp\n",
        ", started with an act of kindness, a cold DM, and a belief that schools must be reimagined for the modern world.\n",
        "\n",
        "Learn more about this women-led startup and how it reimagines e-learning with Google Cloud ↓\n",
        "The hashtags in this tweet are: #GoogleCloud\n",
        "#schooliocorp\n",
        "\n",
        "Tokenize the hashtags of this tweet: Google Cloud\n",
        "@googlecloud\n",
        "·\n",
        "Mar 6\n",
        "A good migration plan has 4️⃣ phases: assessment, planning, execution, and optimization.\n",
        "\n",
        "A great migration plan has 5️⃣ phases: discussion (i.e., join our Twitter Space on March 8), assessment, planning, execution, and optimization.\n",
        "\n",
        "Set a reminder ↓\n",
        "The hashtags in this tweet are: #googlecloud\n",
        "#migration\n",
        "#assessment\n",
        "#planning\n",
        "#execution\n",
        "#optimization\n",
        "#discussion\n",
        "#twitterspace\n",
        "#march8\n",
        "\n",
        "Tokenize the hashtags of this tweet: Google Cloud\n",
        "@googlecloud\n",
        "·\n",
        "Feb 25\n",
        "Launching in the next Video:\n",
        "- Using PaLM2 with LangChain\n",
        "- Creating a PaLM2 conversation agent\n",
        "- Using PaLM2 with tools\n",
        "\n",
        "Read more ↓\n",
        "The hashtags in this tweet are:\n",
        "\"\"\",\n",
        "    **parameters\n",
        ")\n",
        "print(f\"Response from Model: {response.text}\")"
      ],
      "metadata": {
        "colab": {
          "base_uri": "https://localhost:8080/"
        },
        "id": "ajUfghDZsMUZ",
        "outputId": "240872a8-b165-4a2e-b785-40ff9a625e37"
      },
      "execution_count": 5,
      "outputs": [
        {
          "output_type": "stream",
          "name": "stdout",
          "text": [
            "Response from Model: The hashtags in this tweet are: #GoogleCloud\n",
            "#Palm2\n",
            "#LangChain\n",
            "#PaLM2conversationagent\n",
            "#PaLM2tools\n"
          ]
        }
      ]
    }
  ]
}