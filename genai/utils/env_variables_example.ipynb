{
  "nbformat": 4,
  "nbformat_minor": 0,
  "metadata": {
    "colab": {
      "provenance": [],
      "authorship_tag": "ABX9TyNPu1/lSnq7qfMdePQVM7GN",
      "include_colab_link": true
    },
    "kernelspec": {
      "name": "python3",
      "display_name": "Python 3"
    },
    "language_info": {
      "name": "python"
    }
  },
  "cells": [
    {
      "cell_type": "markdown",
      "metadata": {
        "id": "view-in-github",
        "colab_type": "text"
      },
      "source": [
        "<a href=\"https://colab.research.google.com/github/githubuserpk/gcp/blob/master/genai/utils/env_variables_example.ipynb\" target=\"_parent\"><img src=\"https://colab.research.google.com/assets/colab-badge.svg\" alt=\"Open In Colab\"/></a>"
      ]
    },
    {
      "cell_type": "code",
      "execution_count": 3,
      "metadata": {
        "colab": {
          "base_uri": "https://localhost:8080/"
        },
        "id": "iL0oN0-5SMyQ",
        "outputId": "a10120cd-f962-4725-ee95-393ea4c552b2"
      },
      "outputs": [
        {
          "output_type": "stream",
          "name": "stdout",
          "text": [
            "Requirement already satisfied: python-dotenv in /usr/local/lib/python3.10/dist-packages (1.0.0)\n",
            "DB host: host1-pk.com\n",
            "DB user: user-pk\n",
            "DB password: Password@321\n"
          ]
        }
      ],
      "source": [
        "!pip install python-dotenv\n",
        "from dotenv import load_dotenv\n",
        "import os\n",
        "\n",
        "# Load variables from .env file\n",
        "load_dotenv('.env')\n",
        "\n",
        "# Use variables\n",
        "db_host = os.getenv('DB_HOST')\n",
        "db_user = os.getenv('DB_USER')\n",
        "db_password = os.getenv('DB_PASSWORD')\n",
        "\n",
        "# Print variables\n",
        "print('DB host:', db_host)\n",
        "print('DB user:', db_user)\n",
        "print('DB password:', db_password)"
      ]
    }
  ]
}