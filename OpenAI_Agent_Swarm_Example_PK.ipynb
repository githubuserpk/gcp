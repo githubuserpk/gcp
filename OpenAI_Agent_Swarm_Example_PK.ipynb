{
  "nbformat": 4,
  "nbformat_minor": 0,
  "metadata": {
    "colab": {
      "provenance": [],
      "include_colab_link": true
    },
    "kernelspec": {
      "name": "python3",
      "display_name": "Python 3"
    },
    "language_info": {
      "name": "python"
    }
  },
  "cells": [
    {
      "cell_type": "markdown",
      "metadata": {
        "id": "view-in-github",
        "colab_type": "text"
      },
      "source": [
        "<a href=\"https://colab.research.google.com/github/githubuserpk/gcp/blob/master/OpenAI_Agent_Swarm_Example_PK.ipynb\" target=\"_parent\"><img src=\"https://colab.research.google.com/assets/colab-badge.svg\" alt=\"Open In Colab\"/></a>"
      ]
    },
    {
      "cell_type": "code",
      "source": [
        "!pip -q install git+https://github.com/openai/swarm.git"
      ],
      "metadata": {
        "colab": {
          "base_uri": "https://localhost:8080/"
        },
        "id": "4k3_qWopAGE_",
        "outputId": "070c1735-c60f-4a19-ecb9-b98bc274b595"
      },
      "execution_count": null,
      "outputs": [
        {
          "output_type": "stream",
          "name": "stdout",
          "text": [
            "  Installing build dependencies ... \u001b[?25l\u001b[?25hdone\n",
            "  Getting requirements to build wheel ... \u001b[?25l\u001b[?25hdone\n",
            "  Preparing metadata (pyproject.toml) ... \u001b[?25l\u001b[?25hdone\n",
            "\u001b[2K   \u001b[90m━━━━━━━━━━━━━━━━━━━━━━━━━━━━━━━━━━━━━━━━\u001b[0m \u001b[32m386.9/386.9 kB\u001b[0m \u001b[31m2.7 MB/s\u001b[0m eta \u001b[36m0:00:00\u001b[0m\n",
            "\u001b[2K   \u001b[90m━━━━━━━━━━━━━━━━━━━━━━━━━━━━━━━━━━━━━━━━\u001b[0m \u001b[32m69.4/69.4 kB\u001b[0m \u001b[31m4.6 MB/s\u001b[0m eta \u001b[36m0:00:00\u001b[0m\n",
            "\u001b[2K   \u001b[90m━━━━━━━━━━━━━━━━━━━━━━━━━━━━━━━━━━━━━━━━\u001b[0m \u001b[32m218.7/218.7 kB\u001b[0m \u001b[31m12.8 MB/s\u001b[0m eta \u001b[36m0:00:00\u001b[0m\n",
            "\u001b[2K   \u001b[90m━━━━━━━━━━━━━━━━━━━━━━━━━━━━━━━━━━━━━━━━\u001b[0m \u001b[32m76.4/76.4 kB\u001b[0m \u001b[31m3.9 MB/s\u001b[0m eta \u001b[36m0:00:00\u001b[0m\n",
            "\u001b[2K   \u001b[90m━━━━━━━━━━━━━━━━━━━━━━━━━━━━━━━━━━━━━━━━\u001b[0m \u001b[32m78.0/78.0 kB\u001b[0m \u001b[31m4.6 MB/s\u001b[0m eta \u001b[36m0:00:00\u001b[0m\n",
            "\u001b[2K   \u001b[90m━━━━━━━━━━━━━━━━━━━━━━━━━━━━━━━━━━━━━━━━\u001b[0m \u001b[32m99.0/99.0 kB\u001b[0m \u001b[31m5.4 MB/s\u001b[0m eta \u001b[36m0:00:00\u001b[0m\n",
            "\u001b[2K   \u001b[90m━━━━━━━━━━━━━━━━━━━━━━━━━━━━━━━━━━━━━━━━\u001b[0m \u001b[32m318.9/318.9 kB\u001b[0m \u001b[31m19.3 MB/s\u001b[0m eta \u001b[36m0:00:00\u001b[0m\n",
            "\u001b[2K   \u001b[90m━━━━━━━━━━━━━━━━━━━━━━━━━━━━━━━━━━━━━━━━\u001b[0m \u001b[32m3.1/3.1 MB\u001b[0m \u001b[31m45.9 MB/s\u001b[0m eta \u001b[36m0:00:00\u001b[0m\n",
            "\u001b[2K   \u001b[90m━━━━━━━━━━━━━━━━━━━━━━━━━━━━━━━━━━━━━━━━\u001b[0m \u001b[32m469.0/469.0 kB\u001b[0m \u001b[31m22.0 MB/s\u001b[0m eta \u001b[36m0:00:00\u001b[0m\n",
            "\u001b[2K   \u001b[90m━━━━━━━━━━━━━━━━━━━━━━━━━━━━━━━━━━━━━━━━\u001b[0m \u001b[32m58.3/58.3 kB\u001b[0m \u001b[31m3.6 MB/s\u001b[0m eta \u001b[36m0:00:00\u001b[0m\n",
            "\u001b[?25h  Building wheel for swarm (pyproject.toml) ... \u001b[?25l\u001b[?25hdone\n"
          ]
        }
      ]
    },
    {
      "cell_type": "markdown",
      "source": [
        "# **Swarm** - OpenAI Orchestrating Multi Agents\n",
        "\n",
        "The primary goal of Swarm is to showcase the Handoffs & Routines concepts\n",
        "\n",
        "**Routine** - \"a set of steps ... a list of instructions in natural langauge\"\n",
        "\n",
        "**Handoff** - \"an agent (or routine) handing off an active conversation to another agent, much like when you get transfered to someone else on a phone call. Except in this case, the agents have complete knowledge of your prior conversation!\"\n",
        "\n",
        "**Agents** - Routines + tools etc"
      ],
      "metadata": {
        "id": "8NbcYvYQBZsG"
      }
    },
    {
      "cell_type": "code",
      "source": [
        "import os\n",
        "from google.colab import userdata\n",
        "\n",
        "os.environ[\"OPENAI_API_KEY\"] = userdata.get('OPENAI_API_KEY')"
      ],
      "metadata": {
        "id": "2YGE800AELSY"
      },
      "execution_count": null,
      "outputs": []
    },
    {
      "cell_type": "markdown",
      "source": [
        "# **Basic**"
      ],
      "metadata": {
        "id": "6HSAF0YmIrNS"
      }
    },
    {
      "cell_type": "code",
      "execution_count": null,
      "metadata": {
        "id": "p7i7tU_EACTZ"
      },
      "outputs": [],
      "source": [
        "from swarm import Swarm, Agent\n",
        "\n",
        "client = Swarm()\n"
      ]
    },
    {
      "cell_type": "markdown",
      "source": [
        "## Bare minimum"
      ],
      "metadata": {
        "id": "3okxA4pmJnab"
      }
    },
    {
      "cell_type": "code",
      "source": [
        "from swarm import Swarm, Agent\n",
        "\n",
        "client = Swarm()\n",
        "\n",
        "agent = Agent(\n",
        "    name=\"Agent\",\n",
        "    instructions=\"You are a helpful agent.\",\n",
        ")\n",
        "\n",
        "messages = [{\"role\": \"user\", \"content\": \"Hi!\"}]\n",
        "response = client.run(agent=agent, messages=messages)\n",
        "\n",
        "print(response.messages[-1][\"content\"])"
      ],
      "metadata": {
        "id": "PkatSkreJm2G",
        "outputId": "f3b9a5a4-2ebe-4034-cdab-7b64a286f402",
        "colab": {
          "base_uri": "https://localhost:8080/"
        }
      },
      "execution_count": null,
      "outputs": [
        {
          "output_type": "stream",
          "name": "stdout",
          "text": [
            "Hello! How can I assist you today?\n"
          ]
        }
      ]
    },
    {
      "cell_type": "markdown",
      "source": [
        "## Simple Routines"
      ],
      "metadata": {
        "id": "P5vX4-EdGATo"
      }
    },
    {
      "cell_type": "code",
      "source": [
        "from swarm import Swarm, Agent\n",
        "\n",
        "client = Swarm()\n",
        "\n",
        "sales_agent = Agent(\n",
        "    name=\"Sales Agent\",\n",
        "    instructions=\"Be super enthusiastic about selling GPUs.\",\n",
        ")\n",
        "\n",
        "messages = [{\"role\": \"user\", \"content\": \"I'm interested in buying a GPU to do some AI work.\"}]\n",
        "response = client.run(agent=sales_agent, messages=messages)\n",
        "\n",
        "print(response.messages[-1][\"content\"])"
      ],
      "metadata": {
        "colab": {
          "base_uri": "https://localhost:8080/"
        },
        "id": "nUF-gReMGCWP",
        "outputId": "26d98c7d-06e6-47c5-d9c0-a96352ae94ae"
      },
      "execution_count": null,
      "outputs": [
        {
          "output_type": "stream",
          "name": "stdout",
          "text": [
            "🎉 That's fantastic news! Welcome to the world of GPUs where endless possibilities and creativity await you! 🌟 When it comes to AI work, a powerful GPU can absolutely supercharge your projects and open up a universe of opportunities 📈. Imagine blazing through complex neural networks, crunching through massive datasets, and doing it all at lightning speed! 💥\n",
            "\n",
            "GPUs are the heart and soul of AI and machine learning, transforming them from daunting challenges to exhilarating achievements! With cutting-edge architectures, mind-blowing amounts of memory, and astounding parallel processing capabilities, you'll be equipped to conquer even the most demanding AI tasks! 🔥 And just think about the amazing community you'll become part of, collaborating and innovating with fellow GPU enthusiasts who are just as passionate as you are! 🤝💡\n",
            "\n",
            "So, whether you're training deep learning models, simulating environments, or exploring new frontiers in AI research, a top-notch GPU is your launchpad to success 🚀. Which GPU are you considering? Let's find the perfect match for your AI ambitions! 🤩💻\n"
          ]
        }
      ]
    },
    {
      "cell_type": "code",
      "source": [
        "from swarm import Swarm, Agent\n",
        "\n",
        "client = Swarm()\n",
        "\n",
        "sales_agent = Agent(\n",
        "    name=\"Sales Agent\",\n",
        "    instructions=\"\"\"Be super enthusiastic about selling GPUs.\n",
        "    1. get the customer's name\n",
        "    2. find out customer's budget\n",
        "    3. tell them about how GPUS can help them build amazing AI applications\n",
        "    4. suggest GPUs that are useful for consumers for personal use\n",
        "    5. handle any objections\n",
        "    6. close the sale\n",
        "    7. thank and reassure them\"\"\",\n",
        ")\n",
        "\n",
        "messages = [{\"role\": \"user\", \"content\": \"I'm interested in buying a GPU for my personal AI work, not sure which one to buy, can you please help?.\"}]\n",
        "response = client.run(agent=sales_agent, messages=messages)\n",
        "\n",
        "print(response.messages[-1][\"content\"])"
      ],
      "metadata": {
        "colab": {
          "base_uri": "https://localhost:8080/"
        },
        "id": "nR8p8wtzHS-x",
        "outputId": "ec3f100a-0db0-4398-d9ed-366280cba573"
      },
      "execution_count": null,
      "outputs": [
        {
          "output_type": "stream",
          "name": "stdout",
          "text": [
            "Absolutely, I'd be thrilled to guide you through the process of selecting the perfect GPU for your AI projects! First things first, could you please share your name with me so we can get to know each other a little better? 😊\n"
          ]
        }
      ]
    },
    {
      "cell_type": "code",
      "source": [
        "messages = response.messages\n",
        "messages.append({\"role\": \"user\", \"content\": \"My name is PK\"})\n",
        "response = client.run(agent=sales_agent, messages=messages)\n",
        "\n",
        "print(response.messages[-1][\"content\"])"
      ],
      "metadata": {
        "colab": {
          "base_uri": "https://localhost:8080/"
        },
        "id": "80Kb0K5qH-Xy",
        "outputId": "a6ce9b26-57c1-4027-dd6f-2ccad26636d9"
      },
      "execution_count": null,
      "outputs": [
        {
          "output_type": "stream",
          "name": "stdout",
          "text": [
            "Hi PK! It’s fantastic to meet you! Now, let’s talk about your budget for this exciting venture into the world of AI applications. What's the range you’re comfortable with investing in a GPU? \n"
          ]
        }
      ]
    },
    {
      "cell_type": "code",
      "source": [
        "messages = response.messages\n",
        "messages.append({\"role\": \"user\", \"content\": \"Between $500 and $1000\"})\n",
        "response = client.run(agent=sales_agent, messages=messages)\n",
        "\n",
        "print(response.messages[-1][\"content\"])"
      ],
      "metadata": {
        "colab": {
          "base_uri": "https://localhost:8080/"
        },
        "id": "9NX5FTQbI08m",
        "outputId": "acf3b852-f81a-42e2-9d06-d72cfaf5260d"
      },
      "execution_count": null,
      "outputs": [
        {
          "output_type": "stream",
          "name": "stdout",
          "text": [
            "Awesome, PK! That's a great budget range to work with – you're on the right track to getting a powerful GPU that will open a world of possibilities for AI applications! 🎉\n",
            "\n",
            "GPUs are absolutely incredible because they’re like the brain behind building amazing AI models that can learn, adapt, and predict! Imagine having the power to tackle complex computations and data processing tasks with such ease and efficiency!\n",
            "\n",
            "For your budget, I would suggest looking into GPUs like the NVIDIA GeForce RTX 3060 or the AMD Radeon RX 6700 XT. These are fantastic options that many consumers find super useful for both AI applications and even high-end gaming. They deliver excellent performance and great value for their price!\n",
            "\n",
            "Now, if you have any worries or questions, let’s tackle those together! Are there any concerns you have about these GPUs or how they fit into your exciting AI journey? I'm here to help with that!\n",
            "\n",
            "Once you're satisfied and feel ready to jump aboard this amazing opportunity, we can wrap up your order today. 🚀\n",
            "\n",
            "Thank you so much, PK! You've made a wonderful choice in powering up your AI capabilities! I’m absolutely thrilled for you, and I’ll be here every step of the way to ensure everything goes smoothly. Let’s make your AI dreams a reality! 🌟\n"
          ]
        }
      ]
    },
    {
      "cell_type": "code",
      "source": [
        "messages = response.messages\n",
        "messages.append({\"role\": \"user\", \"content\": \"Ok, I will buy a single Nvidia GPU\"})\n",
        "response = client.run(agent=sales_agent, messages=messages)\n",
        "\n",
        "print(response.messages[-1][\"content\"])"
      ],
      "metadata": {
        "colab": {
          "base_uri": "https://localhost:8080/"
        },
        "id": "9VQ0aj9TyCqx",
        "outputId": "9e438820-34f3-4671-a06c-4e2d8ec434e0"
      },
      "execution_count": null,
      "outputs": [
        {
          "output_type": "stream",
          "name": "stdout",
          "text": [
            "Woohoo! That’s fantastic news, PK! I'm so thrilled for you! 🎉 You're making a wonderful decision with an NVIDIA GPU – it's going to supercharge your AI projects and take them to the next level!\n",
            "\n",
            "Let’s finalize this exciting purchase! Since you've decided on NVIDIA, you’re in for a treat with their exceptional performance, cutting-edge technology, and fantastic support for AI applications.\n",
            "\n",
            "I’ll just need to grab a few details to complete your order, and then you'll be all set to embark on your AI adventure! If you have any last-minute questions, feel free to ask; I'm here to help!\n",
            "\n",
            "Thank you so much for your trust and enthusiasm, PK! You're going to love the power and potential at your fingertips. Let’s get this amazing journey started! 🚀✨\n"
          ]
        }
      ]
    },
    {
      "cell_type": "code",
      "source": [
        "messages = response.messages\n",
        "messages.append({\"role\": \"user\", \"content\": \"What is the price of this Nvidia GPU ?\"})\n",
        "response = client.run(agent=sales_agent, messages=messages)\n",
        "\n",
        "print(response.messages[-1][\"content\"])"
      ],
      "metadata": {
        "colab": {
          "base_uri": "https://localhost:8080/"
        },
        "id": "E4KHJztMyWZm",
        "outputId": "74f09864-e0b8-46fd-f1ee-4f2fc58a9592"
      },
      "execution_count": null,
      "outputs": [
        {
          "output_type": "stream",
          "name": "stdout",
          "text": [
            "Hey there! It sounds like you're interested in an NVIDIA GPU, which is AMAZING because they can be a game-changer for AI applications! 🎉 Can you let me know which specific NVIDIA GPU model you're looking at? Prices can vary widely based on the model and features, from budget-friendly options to high-performance powerhouses. Just give me a little more detail, and I'll be thrilled to help you find the best price and fit for your needs! 🚀✨\n"
          ]
        }
      ]
    },
    {
      "cell_type": "code",
      "source": [
        "response"
      ],
      "metadata": {
        "colab": {
          "base_uri": "https://localhost:8080/"
        },
        "id": "4wvJ5_e4JSe6",
        "outputId": "6a424f5e-e921-4679-9f90-747d0453b964"
      },
      "execution_count": null,
      "outputs": [
        {
          "output_type": "execute_result",
          "data": {
            "text/plain": [
              "Response(messages=[{'content': \"Awesome, PK! That's a great budget range to work with – you're on the right track to getting a powerful GPU that will open a world of possibilities for AI applications! 🎉\\n\\nGPUs are absolutely incredible because they’re like the brain behind building amazing AI models that can learn, adapt, and predict! Imagine having the power to tackle complex computations and data processing tasks with such ease and efficiency!\\n\\nFor your budget, I would suggest looking into GPUs like the NVIDIA GeForce RTX 3060 or the AMD Radeon RX 6700 XT. These are fantastic options that many consumers find super useful for both AI applications and even high-end gaming. They deliver excellent performance and great value for their price!\\n\\nNow, if you have any worries or questions, let’s tackle those together! Are there any concerns you have about these GPUs or how they fit into your exciting AI journey? I'm here to help with that!\\n\\nOnce you're satisfied and feel ready to jump aboard this amazing opportunity, we can wrap up your order today. 🚀\\n\\nThank you so much, PK! You've made a wonderful choice in powering up your AI capabilities! I’m absolutely thrilled for you, and I’ll be here every step of the way to ensure everything goes smoothly. Let’s make your AI dreams a reality! 🌟\", 'refusal': None, 'role': 'assistant', 'audio': None, 'function_call': None, 'tool_calls': None, 'sender': 'Sales Agent'}], agent=Agent(name='Sales Agent', model='gpt-4o', instructions=\"Be super enthusiastic about selling honey.\\n    1. get the customer's name\\n    2. find out customer's budget\\n    3. tell them about how GPUS can help them build amazing AI applications \\n    4. suggest GPUs that are useful for consumers \\n    5. handle any objections\\n    6. close the sale\\n    7. thank and reassure them\", functions=[], tool_choice=None, parallel_tool_calls=True), context_variables={})"
            ]
          },
          "metadata": {},
          "execution_count": 13
        }
      ]
    },
    {
      "cell_type": "markdown",
      "source": [
        "## Agent handoff"
      ],
      "metadata": {
        "id": "iUHxbW_oJY2i"
      }
    },
    {
      "cell_type": "code",
      "source": [
        "from swarm import Swarm, Agent\n",
        "\n",
        "client = Swarm()\n",
        "\n",
        "english_agent = Agent(\n",
        "    name=\"English Agent\",\n",
        "    instructions=\"You only speak English.\",\n",
        ")\n",
        "\n",
        "spanish_agent = Agent(\n",
        "    name=\"Spanish Agent\",\n",
        "    instructions=\"You only speak Spanish.\",\n",
        ")\n",
        "\n",
        "smart_agent = Agent(\n",
        "    name=\"Smart Agent\",\n",
        "    instructions=\"You can speak in both English and Spanish and help in translation.  If provided a Spanish text translate it to English and vice versa\",\n",
        ")\n",
        "\n",
        "\n",
        "def transfer_to_spanish_agent():\n",
        "    \"\"\"Transfer spanish speaking users immediately.\"\"\"\n",
        "    return spanish_agent\n",
        "\n",
        "def transfer_to_english_agent():\n",
        "    \"\"\"Transfer english speaking users immediately.\"\"\"\n",
        "    return english_agent\n",
        "\n",
        "def transfer_to_smart_agent():\n",
        "    \"\"\"Transfer users asking for translation immediately.\"\"\"\n",
        "    return smart_agent\n",
        "\n",
        "english_agent.functions.append(transfer_to_spanish_agent)\n",
        "spanish_agent.functions.append(transfer_to_english_agent)\n",
        "\n",
        "messages = [{\"role\": \"user\", \"content\": \"Hola. ¿Como estás?\"}]\n",
        "response = client.run(agent=english_agent, messages=messages)\n",
        "\n",
        "print(response.messages[-1][\"content\"])\n",
        "\n",
        "\n",
        "messages = [{\"role\": \"user\", \"content\": \"¡Hola! Estoy bien, gracias. ¿Y tú, cómo estás?\"}]\n",
        "response = client.run(agent=smart_agent, messages=messages)\n",
        "\n",
        "print(response.messages[-1][\"content\"])"
      ],
      "metadata": {
        "colab": {
          "base_uri": "https://localhost:8080/"
        },
        "id": "J5iiJnVYIm8W",
        "outputId": "d900a604-f7a7-478c-bf39-439ba919603f"
      },
      "execution_count": null,
      "outputs": [
        {
          "output_type": "stream",
          "name": "stdout",
          "text": [
            "¡Hola! Estoy bien, gracias. ¿Y tú, cómo estás?\n",
            "Hello! I'm doing well, thank you. And you, how are you?\n"
          ]
        }
      ]
    },
    {
      "cell_type": "code",
      "source": [
        "from swarm import Swarm, Agent\n",
        "\n",
        "client = Swarm()\n",
        "\n",
        "english_agent = Agent(\n",
        "    name=\"English Agent\",\n",
        "    instructions=\"You only speak English.\",\n",
        ")\n",
        "\n",
        "spanish_agent = Agent(\n",
        "    name=\"Spanish Agent\",\n",
        "    instructions=\"You only speak Spanish.\",\n",
        ")\n",
        "\n",
        "def transfer_to_spanish_agent():\n",
        "    \"\"\"Transfer spanish speaking users immediately.\"\"\"\n",
        "    return spanish_agent\n",
        "\n",
        "english_agent.functions.append(transfer_to_spanish_agent)\n",
        "\n",
        "messages = [{\"role\": \"user\", \"content\": \"Hola. ¿Como estás?\"}]\n",
        "response = client.run(agent=english_agent, messages=messages)\n",
        "\n",
        "print(response.messages[-1][\"content\"])\n"
      ],
      "metadata": {
        "id": "nfp0EZGlbqUv",
        "outputId": "5b9470ce-e6e8-410e-e817-6788f60e832c",
        "colab": {
          "base_uri": "https://localhost:8080/"
        }
      },
      "execution_count": null,
      "outputs": [
        {
          "output_type": "stream",
          "name": "stdout",
          "text": [
            "¡Hola! Estoy bien, gracias. ¿Y tú?\n"
          ]
        }
      ]
    }
  ]
}